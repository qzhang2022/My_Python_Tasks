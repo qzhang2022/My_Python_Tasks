{
 "cells": [
  {
   "cell_type": "code",
   "execution_count": 32,
   "id": "66797dbd",
   "metadata": {},
   "outputs": [],
   "source": [
    "# -*- coding: utf-8 -*-"
   ]
  },
  {
   "cell_type": "markdown",
   "id": "931b69c0",
   "metadata": {},
   "source": [
    "### 变量与简单的运算符\n",
    "\n",
    "#### Question 0 : 单位转换\n",
    "\n",
    "**题目描述**：如果已知英制长度的英尺foot和英寸inch的值，那么对应的米是(foot+inch/12)×0.3048。现在，如果用户输入的是厘米数，那么对应英制长度的英尺和英寸是多少呢？别忘了1英尺等于12英寸。\n",
    "\n",
    "**输入**：在一行中给出一个正整数，单位为厘米。\n",
    "\n",
    "输出：在一行中格式化地输出这个厘米数对应的英尺和英寸的整数值，还需要在对应的数字后面添加英文（这里暂不考虑单位英文变复数的情况，当然，你可以考虑添加这样的功能：当数字大于1时，单位的英文变为复数形式），如下面的输出样例所示。\n",
    "\n",
    "**输入样例**：\n",
    "\n",
    "```bash\n",
    "170\n",
    "```\n",
    "\n",
    "**输出样例**：\n",
    "\n",
    "```bash\n",
    "5 foot 6 inch\n",
    "```\n",
    "\n",
    "**你的代码**："
   ]
  },
  {
   "cell_type": "code",
   "execution_count": 33,
   "id": "51f22a54",
   "metadata": {
    "scrolled": true
   },
   "outputs": [
    {
     "name": "stdout",
     "output_type": "stream",
     "text": [
      "170 cm = 5 foot 6 inch\n"
     ]
    }
   ],
   "source": [
    "#自己写的，没有考虑好英文变复数的情况\n",
    "a = input()\n",
    "a = float(a)\n",
    "f = (a / 100) // 0.3048\n",
    "i = ((a / 100) / 0.3048 - f) *12\n",
    "print('%d cm = %d foot %d inch' % (a,f,i))"
   ]
  },
  {
   "cell_type": "code",
   "execution_count": 34,
   "id": "dbb2ce70",
   "metadata": {},
   "outputs": [
    {
     "name": "stdout",
     "output_type": "stream",
     "text": [
      "5 foots 6 inchs\n"
     ]
    }
   ],
   "source": [
    "#看到群里的小伙伴的代码，感觉他的更好，可以很灵活地改单位复数,命名也比较好，写太简单了可读性太差\n",
    "cm = input(\"input cm: \")\n",
    "cm = int(cm)\n",
    "foot = int(cm / 100 / 0.3048)\n",
    "inch = int((cm / 100 / 0.3048 - foot) * 12)\n",
    "if foot > 1:\n",
    "    foot_units = \"foots\"\n",
    "else:\n",
    "    foot_units = \"foot\"\n",
    "    \n",
    "if inch > 1:\n",
    "    inch_units = \"inchs\"\n",
    "else:\n",
    "    inch_units = \"inch\"\n",
    "print(foot,foot_units,inch,inch_units)"
   ]
  },
  {
   "cell_type": "code",
   "execution_count": 35,
   "id": "ecb24b54",
   "metadata": {},
   "outputs": [
    {
     "name": "stdout",
     "output_type": "stream",
     "text": [
      "5 foot 6 inch\n"
     ]
    }
   ],
   "source": [
    "#看了大佬的解析，感觉先写思路再写代码更好，而且用编辑器更方便的感觉（会提醒报错什么的），先抄下来以备来日借鉴\n",
    "## 获得一个输入\n",
    "centimeter = input(\"-> \")\n",
    "\n",
    "## 厘米转成米\n",
    "meter = int(centimeter)/100\n",
    "\n",
    "## 米转换为英制单位\n",
    "british = meter / 0.3048\n",
    "\n",
    "## 英制单位的整数部分赋值给foot\n",
    "foot = int(british)\n",
    "\n",
    "## 小数部分乘以12再取整赋值给inch\n",
    "inch = (british - int(british)) * 12\n",
    "inch = int(inch)#取整并重新赋值\n",
    "\n",
    "## 输出\n",
    "print(\"{0} foot {1} inch\".format(foot, inch))"
   ]
  },
  {
   "cell_type": "markdown",
   "id": "d612389a",
   "metadata": {},
   "source": [
    "#### Question 0 : 输出质数\n",
    "\n",
    "**题目描述**：打印出10到100（包括10但是不包括100）范围内的质数（素数），每一个质数单独占一行。\n",
    "\n",
    "**你的代码**"
   ]
  },
  {
   "cell_type": "code",
   "execution_count": 36,
   "id": "ed807a27",
   "metadata": {},
   "outputs": [
    {
     "name": "stdout",
     "output_type": "stream",
     "text": [
      "2\n",
      "3\n",
      "5\n",
      "7\n",
      "11\n",
      "13\n",
      "17\n",
      "19\n",
      "23\n",
      "29\n",
      "31\n",
      "37\n",
      "41\n",
      "43\n",
      "47\n",
      "53\n",
      "59\n",
      "61\n",
      "67\n",
      "71\n",
      "73\n",
      "79\n",
      "83\n",
      "89\n",
      "97\n"
     ]
    }
   ],
   "source": [
    "# 找到1 到100 的质数\n",
    "#如果一个数只能被 1 和它本身整除，这个数就是质数\n",
    "#放进循环里每个质数单独打就可以打出换行效果\n",
    "\n",
    "number = []\n",
    "i = 2\n",
    "for i in range(2, 100):\n",
    "    j = 2\n",
    "    for j in range(2, i):\n",
    "        if (i % j == 0):\n",
    "            break\n",
    "    else:\n",
    "        number.append(i)\n",
    "length = len(number)\n",
    "for k in range(length):\n",
    "    print(number[k])\n"
   ]
  },
  {
   "cell_type": "code",
   "execution_count": 16,
   "id": "1a773179",
   "metadata": {},
   "outputs": [
    {
     "name": "stdout",
     "output_type": "stream",
     "text": [
      "11\n",
      "13\n",
      "17\n",
      "19\n",
      "23\n",
      "29\n",
      "31\n",
      "37\n",
      "41\n",
      "43\n",
      "47\n",
      "53\n",
      "59\n",
      "61\n",
      "67\n",
      "71\n",
      "73\n",
      "79\n",
      "83\n",
      "89\n",
      "97\n"
     ]
    }
   ],
   "source": [
    "##标准答案，我自己做的时候没有看清楚题目，是从10开始而不是1\n",
    "for num in range(10,100):\n",
    "    ##judge whether num is a prime number\n",
    "    flag = True\n",
    "    for i in range(2,num):\n",
    "    #for i in range(2,round(num**0.5)+1):  ##减少循环次数，节约资源\n",
    "        if num % i == 0:\n",
    "            ##num is not a prime number\n",
    "            flag = False\n",
    "    if flag == True:\n",
    "        print(num)\n",
    "\n"
   ]
  },
  {
   "cell_type": "code",
   "execution_count": 24,
   "id": "0841930a",
   "metadata": {},
   "outputs": [
    {
     "name": "stdout",
     "output_type": "stream",
     "text": [
      "11\n",
      "13\n",
      "17\n",
      "19\n",
      "23\n",
      "29\n",
      "31\n",
      "37\n",
      "41\n",
      "43\n",
      "47\n",
      "53\n",
      "59\n",
      "61\n",
      "67\n",
      "71\n",
      "73\n",
      "79\n",
      "83\n",
      "89\n",
      "97\n"
     ]
    }
   ],
   "source": [
    "##追求更简洁的写法\n",
    "for num in range(10,100):\n",
    "    ##judge whether num is a prime number\n",
    "    for i in range(2,round(num**0.5)+1):\n",
    "        if num % i == 0:\n",
    "            ##num is not a prime number\n",
    "            break\n",
    "    else:\n",
    "        print(num)"
   ]
  },
  {
   "cell_type": "markdown",
   "id": "6b7a2456",
   "metadata": {},
   "source": [
    "#### Question 1 : 打印九九乘法表\n",
    "\n",
    "**你的代码**："
   ]
  },
  {
   "cell_type": "code",
   "execution_count": 37,
   "id": "41ca2ac7",
   "metadata": {},
   "outputs": [
    {
     "name": "stdout",
     "output_type": "stream",
     "text": [
      "1x1=1\t\n",
      "1x2=2\t2x2=4\t\n",
      "1x3=3\t2x3=6\t3x3=9\t\n",
      "1x4=4\t2x4=8\t3x4=12\t4x4=16\t\n",
      "1x5=5\t2x5=10\t3x5=15\t4x5=20\t5x5=25\t\n",
      "1x6=6\t2x6=12\t3x6=18\t4x6=24\t5x6=30\t6x6=36\t\n",
      "1x7=7\t2x7=14\t3x7=21\t4x7=28\t5x7=35\t6x7=42\t7x7=49\t\n",
      "1x8=8\t2x8=16\t3x8=24\t4x8=32\t5x8=40\t6x8=48\t7x8=56\t8x8=64\t\n",
      "1x9=9\t2x9=18\t3x9=27\t4x9=36\t5x9=45\t6x9=54\t7x9=63\t8x9=72\t9x9=81\t\n"
     ]
    }
   ],
   "source": [
    "# 九九乘法表\n",
    "for i in range(1, 10):\n",
    "    for j in range(1, i+1): ##因为range(1,1)是空值，取不到1\n",
    "        print(f\"{j}x{i}={i*j}\\t\", end=\"\")\n",
    "    print() ##等于一个换行"
   ]
  },
  {
   "cell_type": "code",
   "execution_count": 31,
   "id": "75c01efc",
   "metadata": {},
   "outputs": [
    {
     "name": "stdout",
     "output_type": "stream",
     "text": [
      "1x1=1  \n",
      "1x2=2  2x2=4  \n",
      "1x3=3  2x3=6  3x3=9  \n",
      "1x4=4  2x4=8  3x4=12 4x4=16 \n",
      "1x5=5  2x5=10 3x5=15 4x5=20 5x5=25 \n",
      "1x6=6  2x6=12 3x6=18 4x6=24 5x6=30 6x6=36 \n",
      "1x7=7  2x7=14 3x7=21 4x7=28 5x7=35 6x7=42 7x7=49 \n",
      "1x8=8  2x8=16 3x8=24 4x8=32 5x8=40 6x8=48 7x8=56 8x8=64 \n",
      "1x9=9  2x9=18 3x9=27 4x9=36 5x9=45 6x9=54 7x9=63 8x9=72 9x9=81 \n"
     ]
    }
   ],
   "source": [
    "##标准答案\n",
    "for i in range(1, 10):\n",
    "    for j in range(1, i+1): ##因为range(1,1)是空值，取不到1\n",
    "        #print(\"{0}x{1}={2}\".format(j,i,i*j), end=\" \") ##这里在end这里放空格好像更方便点\n",
    "        print(\"{0}x{1}={2:<2} \".format(j,i,i*j), end=\"\")\n",
    "    print() ##等于一个换行"
   ]
  },
  {
   "cell_type": "markdown",
   "id": "474198ba",
   "metadata": {},
   "source": [
    "**一行代码输出九九乘法表**：（可选）"
   ]
  },
  {
   "cell_type": "code",
   "execution_count": 33,
   "id": "43591df1",
   "metadata": {},
   "outputs": [
    {
     "name": "stdout",
     "output_type": "stream",
     "text": [
      "1x1=1  \n",
      "1x2=2  2x2=4  \n",
      "1x3=3  2x3=6  3x3=9  \n",
      "1x4=4  2x4=8  3x4=12 4x4=16 \n",
      "1x5=5  2x5=10 3x5=15 4x5=20 5x5=25 \n",
      "1x6=6  2x6=12 3x6=18 4x6=24 5x6=30 6x6=36 \n",
      "1x7=7  2x7=14 3x7=21 4x7=28 5x7=35 6x7=42 7x7=49 \n",
      "1x8=8  2x8=16 3x8=24 4x8=32 5x8=40 6x8=48 7x8=56 8x8=64 \n",
      "1x9=9  2x9=18 3x9=27 4x9=36 5x9=45 6x9=54 7x9=63 8x9=72 9x9=81 \n"
     ]
    }
   ],
   "source": [
    "##python列表生成式\n",
    "print(\"\\n\".join([ \"\".join(([\"{}x{}={:<2} \".format(j,i,i*j) for j in range(1, i+1) ])) for i in range(1,10)]))"
   ]
  },
  {
   "cell_type": "markdown",
   "id": "d3ba3e88",
   "metadata": {},
   "source": [
    "### 字符串\n",
    "\n",
    "#### Question 0 : 字符串切分\n",
    "\n",
    "**题目描述**：要求定义如下字符串（赋值给某一个变量），要求首先除去字符串首尾的空格和字符`A`，然后对其按空格进行切分；输出切分出来的元素的数量并输出每一个元素去除首尾空格之后的字符串，一行一个字符串。\n",
    "\n",
    "```bash\n",
    " A a236 E  GHSshg  A  \n",
    "```"
   ]
  },
  {
   "cell_type": "markdown",
   "id": "1abeb51d",
   "metadata": {},
   "source": [
    "**输出样例**：\n",
    "\n",
    "```bash\n",
    "3\n",
    "a236\n",
    "E\n",
    "GHSshg\n",
    "```\n"
   ]
  },
  {
   "cell_type": "code",
   "execution_count": 1,
   "id": "4ad68ade",
   "metadata": {},
   "outputs": [],
   "source": [
    "mystring = (\" A a236 E  GHSshg  A  \")"
   ]
  },
  {
   "cell_type": "code",
   "execution_count": 11,
   "id": "af538bd7",
   "metadata": {},
   "outputs": [
    {
     "data": {
      "text/plain": [
       "'A a236 E  GHSshg  A'"
      ]
     },
     "execution_count": 11,
     "metadata": {},
     "output_type": "execute_result"
    }
   ],
   "source": [
    "mystring = mystring.strip()\n",
    "mystring"
   ]
  },
  {
   "cell_type": "code",
   "execution_count": 12,
   "id": "1e353c92",
   "metadata": {},
   "outputs": [
    {
     "data": {
      "text/plain": [
       "' a236 E  GHSshg  '"
      ]
     },
     "execution_count": 12,
     "metadata": {},
     "output_type": "execute_result"
    }
   ],
   "source": [
    "#这个我不是很明白为什么去掉了A旁边的空格，就去不掉A，还会把之前的空格也还回来\n",
    "mytring = mystring.strip( 'A' )##strip 和 split是不会对原本的字符串进行编辑的，所以需要处理之后赋予给新的变量\n",
    "mytring"
   ]
  },
  {
   "cell_type": "code",
   "execution_count": 41,
   "id": "5249e749",
   "metadata": {},
   "outputs": [],
   "source": [
    "mystring = mystring.strip( ' A' )"
   ]
  },
  {
   "cell_type": "code",
   "execution_count": 42,
   "id": "f4e363f3",
   "metadata": {},
   "outputs": [
    {
     "data": {
      "text/plain": [
       "['a236', 'E', 'GHSshg']"
      ]
     },
     "execution_count": 42,
     "metadata": {},
     "output_type": "execute_result"
    }
   ],
   "source": [
    "mystring.split()"
   ]
  },
  {
   "cell_type": "code",
   "execution_count": 43,
   "id": "2e0c778c",
   "metadata": {},
   "outputs": [],
   "source": [
    "list1 = mystring.split()"
   ]
  },
  {
   "cell_type": "code",
   "execution_count": 44,
   "id": "e45b1997",
   "metadata": {},
   "outputs": [],
   "source": [
    "list_length = len(list1)"
   ]
  },
  {
   "cell_type": "code",
   "execution_count": 45,
   "id": "ea0c924f",
   "metadata": {},
   "outputs": [
    {
     "name": "stdout",
     "output_type": "stream",
     "text": [
      "3\n"
     ]
    }
   ],
   "source": [
    "print(list_length)"
   ]
  },
  {
   "cell_type": "code",
   "execution_count": 46,
   "id": "9591046f",
   "metadata": {},
   "outputs": [
    {
     "name": "stdout",
     "output_type": "stream",
     "text": [
      "a236\n",
      "E\n",
      "GHSshg\n"
     ]
    }
   ],
   "source": [
    "for i in range(list_length):\n",
    "    print(list1[i])"
   ]
  },
  {
   "cell_type": "markdown",
   "id": "242da6b4",
   "metadata": {},
   "source": [
    "#### Question 1 : 字符串索引\n",
    "\n",
    "**题目描述**：自定义一个长度为15的字符串，在一行中输出其中质数索引的字符，字符和字符之间用空格隔开。譬如对于字符串`ABCDE`，`B`的索引为2，即`B`是字符串中索引为质数的字符。\n"
   ]
  },
  {
   "cell_type": "code",
   "execution_count": 47,
   "id": "d51ce869",
   "metadata": {},
   "outputs": [
    {
     "data": {
      "text/plain": [
       "'l l h l e l'"
      ]
     },
     "execution_count": 47,
     "metadata": {},
     "output_type": "execute_result"
    }
   ],
   "source": [
    "##先定义一个合适的字符串\n",
    "string = \"hellohellohello\"\n",
    "\n",
    "## 再定义一个十五以内的质数列表\n",
    "number = [2,3,5,7,11,13]\n",
    "list2 = []\n",
    "## 从质数列表中截取字符放进空列表里\n",
    "for i in number:\n",
    "    list2.append(string[i])\n",
    "\n",
    "##用空格把元素连接起来，list2中不包括数字，所以可以直接输出\n",
    "' '.join(list2)\n"
   ]
  },
  {
   "cell_type": "code",
   "execution_count": 48,
   "id": "c9edb408",
   "metadata": {},
   "outputs": [],
   "source": [
    "a = ' '.join(list2)"
   ]
  },
  {
   "cell_type": "code",
   "execution_count": 49,
   "id": "49eaaea3",
   "metadata": {},
   "outputs": [
    {
     "name": "stdout",
     "output_type": "stream",
     "text": [
      "<class 'str'>\n"
     ]
    }
   ],
   "source": [
    "print(type(a)) ##在这里可以看出，列表用了join之后就会复制出加上连接符的一个字符串，是以单引号包裹的，不再是方括号包裹的"
   ]
  },
  {
   "cell_type": "code",
   "execution_count": 50,
   "id": "80425bb7",
   "metadata": {},
   "outputs": [
    {
     "data": {
      "text/plain": [
       "['l', 'l', 'h', 'l', 'e', 'l']"
      ]
     },
     "execution_count": 50,
     "metadata": {},
     "output_type": "execute_result"
    }
   ],
   "source": [
    "list2 ##而原本的列表不受影响"
   ]
  },
  {
   "cell_type": "markdown",
   "id": "5f32cb8f",
   "metadata": {},
   "source": [
    "### 列表\n",
    "\n",
    "#### Question 0 : 列表的定义\n",
    "\n",
    "**题目描述**：使用两种方法分别定义两个不同长度的列表，将这两个列表顺序合并成一个列表（一个列表中的元素按顺序添加到另一个列表末尾）；最后在一行中输出合并的列表中的所有元素，以空格隔开。\n",
    "\n",
    "**你的代码**："
   ]
  },
  {
   "cell_type": "code",
   "execution_count": 6,
   "id": "96683260",
   "metadata": {},
   "outputs": [
    {
     "name": "stdout",
     "output_type": "stream",
     "text": [
      "1 2 3 4 5 6 7 8 9 10 11 12 13\n"
     ]
    }
   ],
   "source": [
    "li_1 = [1,2,3,4]\n",
    "li_2 = list((5,6,7,8,9,10,11,12,13)) ## list函数是用于把元祖转为列表,使用list函数时应确保list没有被作为变量命名\n",
    "li_1 += li_2                         ### 表示两个列表相加并赋值给li_1\n",
    "## 用空格把元素连接起来\n",
    "\n",
    "print(\" \".join(str(i) for i in li_1))   ###list包含数字，不能直接转化成字符串,需要遍历list元素转换为字符串"
   ]
  },
  {
   "cell_type": "code",
   "execution_count": 8,
   "id": "8e253d05",
   "metadata": {},
   "outputs": [
    {
     "name": "stdout",
     "output_type": "stream",
     "text": [
      "A B C D 0 1 2 3 4\n"
     ]
    }
   ],
   "source": [
    "## 抄一遍大佬的代码\n",
    "list_1 = [\"A\", \"B\", \"C\", \"D\"]\n",
    "list_2 = [x for x in range(5)]\n",
    "list_merge = list[:]\n",
    "list_merge = list_1 + list_2\n",
    "list_1.extend(list_2)\n",
    "print(\" \".join(str(x) for x in list_1))  "
   ]
  },
  {
   "cell_type": "markdown",
   "id": "e67d3edf",
   "metadata": {},
   "source": [
    "#### Question 1 : 列表嵌套\n",
    "\n",
    "**题目描述**：使用列表嵌套的方式，定义一个二维矩阵（`10*10`），每个元素的值为其横纵索引的乘积。最后输出这个矩阵，要求打印出来也是`10*10`的，元素与元素之间用空格隔开，**数字右对齐**。举一个`5*5`矩阵输出的例子：\n",
    "\n",
    "```bash\n",
    " 0  0  0  0  0\n",
    " 0  1  2  3  4\n",
    " 0  2  4  6  8\n",
    " 0  3  6  9 12\n",
    " 0  4  8 12 16\n",
    "```\n",
    "\n"
   ]
  },
  {
   "cell_type": "code",
   "execution_count": 22,
   "id": "a928dcae",
   "metadata": {},
   "outputs": [
    {
     "name": "stdout",
     "output_type": "stream",
     "text": [
      "0 0 0 0 0 0 0 0 0 0\n",
      "0 1 2 3 4 5 6 7 8 9\n",
      "0 2 4 6 8 10 12 14 16 18\n",
      "0 3 6 9 12 15 18 21 24 27\n",
      "0 4 8 12 16 20 24 28 32 36\n",
      "0 5 10 15 20 25 30 35 40 45\n",
      "0 6 12 18 24 30 36 42 48 54\n",
      "0 7 14 21 28 35 42 49 56 63\n",
      "0 8 16 24 32 40 48 56 64 72\n",
      "0 9 18 27 36 45 54 63 72 81\n"
     ]
    }
   ],
   "source": [
    "##先把每一行的列表写出来,应该是可以以循环来写的，但是我写不出来，这样排排写看起来好弱智\n",
    "row1 = [0] * 10  ##第一行都是0，第一个元素是10个 0 的列表\n",
    "row2 = [i * 1 for i in range(10)] \n",
    "row3 = [i * 2 for i in range(10)] \n",
    "row4 = [i * 3 for i in range(10)]\n",
    "row5 = [i * 4 for i in range(10)]\n",
    "row6 = [i * 5 for i in range(10)]\n",
    "row7 = [i * 6 for i in range(10)]\n",
    "row8 = [i * 7 for i in range(10)]\n",
    "row9 = [i * 8 for i in range(10)]\n",
    "row10 = [i * 9 for i in range(10)]\n",
    "matrix1 = [row1,row2,row3,row4,row5,row6,row7,row8,row9,row10] ##填到矩阵（嵌套列表）里去\n",
    "\n",
    "for i in range(10):\n",
    "    for j in range(10):\n",
    "        if j == 9:\n",
    "            print(matrix1[i][j]) ##最后一个元素就换行\n",
    "        else:\n",
    "            print(matrix1[i][j], end=\" \") ##不是最后一个元素就用空格间隔\n",
    "\n",
    "##数字右对齐我不会整，我想着应该是一位数的数字前面空两个空格，两位数的空一格，但是我不知道怎么实现"
   ]
  },
  {
   "cell_type": "code",
   "execution_count": 10,
   "id": "90aa42af",
   "metadata": {},
   "outputs": [
    {
     "name": "stdout",
     "output_type": "stream",
     "text": [
      " 0  0  0  0  0  0  0  0  0  0\n",
      " 0  1  2  3  4  5  6  7  8  9\n",
      " 0  2  4  6  8 10 12 14 16 18\n",
      " 0  3  6  9 12 15 18 21 24 27\n",
      " 0  4  8 12 16 20 24 28 32 36\n",
      " 0  5 10 15 20 25 30 35 40 45\n",
      " 0  6 12 18 24 30 36 42 48 54\n",
      " 0  7 14 21 28 35 42 49 56 63\n",
      " 0  8 16 24 32 40 48 56 64 72\n",
      " 0  9 18 27 36 45 54 63 72 81\n"
     ]
    }
   ],
   "source": [
    "##抄上答案\n",
    "matrix = []\n",
    "for i in range(10):\n",
    "    row = []\n",
    "    for j in range(10):\n",
    "        row.append(i * j)\n",
    "    matrix.append(row)\n",
    "\n",
    "for i in range(len(matrix)):\n",
    "    print(\" \".join([ \"{:>2}\".format(x) for x in matrix[i]])) #占两格右对齐是format的用法，再回顾一下format"
   ]
  },
  {
   "cell_type": "markdown",
   "id": "b8668acf",
   "metadata": {},
   "source": [
    "### 字典\n",
    "\n",
    "#### Question 0 : 字典定义\n",
    "\n",
    "**题目描述**：自定义一个字典，包含5对键值对；并分别在两行输出所有的键和所有的值，要求键值上下对应；之后输出所有的键值对，一行包含一个键值对，键与值之间用` => `隔开。一个2对键值对的输出示例：\n",
    "\n",
    "```bash\n",
    "A B\n",
    "1 2\n",
    "A => 1\n",
    "B => 2\n",
    "```\n",
    "\n",
    "**你的代码**："
   ]
  },
  {
   "cell_type": "code",
   "execution_count": 26,
   "id": "3293cf81",
   "metadata": {},
   "outputs": [
    {
     "name": "stdout",
     "output_type": "stream",
     "text": [
      "A B C D E \n",
      "1 2 3 4 5 \n",
      "A => 1\n",
      "B => 2\n",
      "C => 3\n",
      "D => 4\n",
      "E => 5\n"
     ]
    }
   ],
   "source": [
    "dic = {'A':1,'B':2,'C':3,'D':4,'E':5}\n",
    "for key in dic.keys():\n",
    "    print(key, end = ' ' )\n",
    "print()\n",
    "for value in dic.values():\n",
    "    print(value, end = ' ' )\n",
    "print()\n",
    "for key, value in dic.items(): \n",
    "    print(key,\"=>\",value)"
   ]
  },
  {
   "cell_type": "code",
   "execution_count": 12,
   "id": "f80b4f77",
   "metadata": {},
   "outputs": [
    {
     "name": "stdout",
     "output_type": "stream",
     "text": [
      "A B C D E \n",
      "1 2 3 4 5 \n",
      "A => 1\n",
      "B => 2\n",
      "C => 3\n",
      "D => 4\n",
      "E => 5\n",
      "dict_items([('A', 1), ('B', 2), ('C', 3), ('D', 4), ('E', 5)])\n"
     ]
    }
   ],
   "source": [
    "##此处抄上标准答案\n",
    "dic = {'A':1,'B':2,'C':3,'D':4,'E':5}\n",
    "keys =dic.keys()\n",
    "for key in keys:\n",
    "    print(key, end = \" \")\n",
    "print()\n",
    "for key in keys:\n",
    "    print(dic[key], end = \" \")\n",
    "print()\n",
    "\n",
    "for key, value in dic.items(): \n",
    "    print(key,\"=>\",value)\n",
    "\n",
    "print(dic.items()) ##输出列表，包含元组，元组里有键和值\n",
    "\n"
   ]
  },
  {
   "cell_type": "markdown",
   "id": "dea125a6",
   "metadata": {},
   "source": [
    "#### Question 1 : 字典的排序\n",
    "\n",
    "**题目描述**：定义一个字典，键为从A到E五个字符，值为从1到5五个数字。要求按照值对字典进行排序，最后按照值从大到小的顺序依次输出键值对，每一行一个键值对，中间用` -> `隔开。\n",
    "\n",
    "**你的代码**："
   ]
  },
  {
   "cell_type": "code",
   "execution_count": 34,
   "id": "ace11b45",
   "metadata": {},
   "outputs": [
    {
     "name": "stdout",
     "output_type": "stream",
     "text": [
      "B -> 2\n",
      "C -> 3\n",
      "A -> 1\n",
      "D -> 4\n",
      "E -> 5\n"
     ]
    }
   ],
   "source": [
    "dic = {'B':2,'C':3,'A':1,'D':4,'E':5}\n",
    "#排序\n",
    "sorted(dic.items(), key=lambda item:item[1], reverse=True) ##排序之后变成列表嵌套元组，就不知道怎么输出成键值对了\n",
    "for key in dic.keys():\n",
    "    print(key,\"->\",dic[key])"
   ]
  },
  {
   "cell_type": "code",
   "execution_count": 14,
   "id": "a862b870",
   "metadata": {},
   "outputs": [
    {
     "name": "stdout",
     "output_type": "stream",
     "text": [
      "E -> 5\n",
      "D -> 4\n",
      "C -> 3\n",
      "B -> 2\n",
      "A -> 1\n"
     ]
    }
   ],
   "source": [
    "##第一种方法\n",
    "dic = {'B':2,'C':3,'A':1,'D':4,'E':5}\n",
    "#排序\n",
    "dic2 = dict(sorted(dic.items(), key=lambda item:item[1], reverse=True)) ##排序之后变成列表嵌套元组，还能再转成列表\n",
    "for key in dic2.keys():\n",
    "    print(key,\"->\",dic[key])"
   ]
  },
  {
   "cell_type": "code",
   "execution_count": 15,
   "id": "b6027a60",
   "metadata": {},
   "outputs": [
    {
     "name": "stdout",
     "output_type": "stream",
     "text": [
      "E => 5\n",
      "D => 4\n",
      "C => 3\n",
      "B => 2\n",
      "A => 1\n"
     ]
    }
   ],
   "source": [
    "dic = {'B':2,'C':3,'A':1,'D':4,'E':5}\n",
    "for key, value in sorted(dic.items(), key=lambda item:item[1], reverse=True): #排序的函数并不会改变dic.items()的形式，\n",
    "                                                                              ##所以还是可以像直接用dic.items()一样用\n",
    "    print(key,\"=>\",value) "
   ]
  },
  {
   "cell_type": "markdown",
   "id": "19ff6ffc",
   "metadata": {},
   "source": [
    "### 函数\n",
    "\n",
    "#### Question 0 : 函数定义\n",
    "\n",
    "**题目描述**：定义一个问好函数，其接受一个人名的输入，并打印一句问候语 `xxx, good day !`（其中xxx为输入的人名），如果人名超过3个字符，则返回`Yes`，否则返回`No`。主函数中调用这个函数并对两个人Alice和Ana进行问好。如果问好函数返回`Yes`，主函数输出`long name`，否则输出`short name`。\n",
    "\n",
    "**你的代码**："
   ]
  },
  {
   "cell_type": "markdown",
   "id": "bdbccbf3",
   "metadata": {},
   "source": [
    "对函数这方面还看得不熟悉，看了题目不知道题目要做什么，所以这部分照抄了代码进行理解"
   ]
  },
  {
   "cell_type": "code",
   "execution_count": 1,
   "id": "81d018eb",
   "metadata": {},
   "outputs": [
    {
     "name": "stdout",
     "output_type": "stream",
     "text": [
      "Alice , good day !\n",
      "long name\n",
      "Ana , good day !\n",
      "short name\n"
     ]
    }
   ],
   "source": [
    "def greet(name):\n",
    "    print(name, \", good day !\")\n",
    "    if len(name) > 3:\n",
    "        return \"Yes\"\n",
    "    else:\n",
    "        return \"No\"\n",
    "\n",
    "ret = greet(\"Alice\")\n",
    "if ret == \"Yes\":\n",
    "    print(\"long name\")\n",
    "else:\n",
    "    print(\"short name\")\n",
    "\n",
    "ret = greet(\"Ana\")\n",
    "if ret == \"Yes\":\n",
    "    print(\"long name\")\n",
    "else:\n",
    "    print(\"short name\")\n"
   ]
  },
  {
   "cell_type": "markdown",
   "id": "763047f8",
   "metadata": {},
   "source": [
    "#### Question 1 :  递归\n",
    "\n",
    "**题目描述**：使用递归输出斐波那契数列的前20个数字。\n",
    "\n",
    "斐波那契数列：1、1、2、3、5、8、13……\n",
    "\n",
    "**你的代码**："
   ]
  },
  {
   "cell_type": "code",
   "execution_count": 2,
   "id": "ae23f8de",
   "metadata": {},
   "outputs": [
    {
     "name": "stdout",
     "output_type": "stream",
     "text": [
      "1\n",
      "1\n",
      "2\n",
      "3\n",
      "5\n",
      "8\n",
      "13\n",
      "21\n",
      "34\n",
      "55\n",
      "89\n",
      "144\n",
      "233\n",
      "377\n",
      "610\n",
      "987\n",
      "1597\n",
      "2584\n",
      "4181\n",
      "6765\n"
     ]
    }
   ],
   "source": [
    "def fibonacci(n):\n",
    "    if n == 1 or n == 2:\n",
    "        return 1\n",
    "    if n > 2:\n",
    "        return fibonacci(n-1) + fibonacci(n-2)\n",
    "\n",
    "\n",
    "for i in range(1, 21):\n",
    "    print(fibonacci(i))\n",
    "    "
   ]
  },
  {
   "cell_type": "markdown",
   "id": "531d4887",
   "metadata": {},
   "source": [
    "#### Question 2 : 全局变量（可选）\n",
    "\n",
    "**题目描述**：定义一个问好函数，依次对Alice、Ana、Neo等人问好。在主程序中定义一个count变量，用于统计问好函数被调用的次数。每当问好函数被调用并问好之后，马上将主程序中count的值加一；在问好都结束后，主函数输出问好次数。输出示例如下：\n",
    "\n",
    "```bash\n",
    "count = 3\n",
    "```\n",
    "\n",
    "tips : **global**关键字\n",
    "\n",
    "**你的代码**："
   ]
  },
  {
   "cell_type": "code",
   "execution_count": 7,
   "id": "4c11baf6",
   "metadata": {},
   "outputs": [
    {
     "name": "stdout",
     "output_type": "stream",
     "text": [
      "Alice good day !\n",
      "Ana good day !\n",
      "Neo good day !\n",
      "3\n"
     ]
    }
   ],
   "source": [
    "def greet(name:str) -> None:\n",
    "    global count\n",
    "    count += 1\n",
    "    print(name, \"good day !\")\n",
    "\n",
    "count = 0\n",
    "greet(\"Alice\")\n",
    "greet(\"Ana\")\n",
    "greet(\"Neo\")\n",
    "print(count)\n",
    "\n"
   ]
  }
 ],
 "metadata": {
  "kernelspec": {
   "display_name": "Python 3 (ipykernel)",
   "language": "python",
   "name": "python3"
  },
  "language_info": {
   "codemirror_mode": {
    "name": "ipython",
    "version": 3
   },
   "file_extension": ".py",
   "mimetype": "text/x-python",
   "name": "python",
   "nbconvert_exporter": "python",
   "pygments_lexer": "ipython3",
   "version": "3.10.1"
  }
 },
 "nbformat": 4,
 "nbformat_minor": 5
}
