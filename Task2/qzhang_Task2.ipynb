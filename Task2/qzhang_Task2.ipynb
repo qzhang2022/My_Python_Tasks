{
 "cells": [
  {
   "cell_type": "code",
   "execution_count": null,
   "metadata": {},
   "outputs": [],
   "source": [
    "## author : zhangqian\n",
    "## date : 20220118"
   ]
  },
  {
   "cell_type": "code",
   "execution_count": 5,
   "metadata": {},
   "outputs": [
    {
     "name": "stdout",
     "output_type": "stream",
     "text": [
      "10001 10001\n",
      "congratulations ！\n"
     ]
    }
   ],
   "source": [
    "## read rmsd.xvg\n",
    "with open(\"rmsd.xvg\", \"r\") as fo:\n",
    "    lines = fo.readlines() \n",
    "\n",
    "#print(lines[:20]) ##打印前二十行\n",
    "\n",
    "##deal with content of file ##\n",
    "time_list, rmsd_list = [], []\n",
    "\n",
    "## remove empty lines\n",
    "lines = [ line for line in lines if len(line) !=0]\n",
    "\n",
    "for line in lines:\n",
    "    ## ignore all # lines\n",
    "    if line[0] == \"#\":\n",
    "    #if line.startswith(\"#\"): ##另一种写法\n",
    "        continue\n",
    "\n",
    "    ## get the axis info\n",
    "    if line[0] == \"@\":\n",
    "        if \"xaxis\"  in line:\n",
    "            xaxis = line.strip().strip('\"').split('\"')[1] ##先去掉两端双引号，再取以双引号分割的最后一个字符串元素就是单位,双引号的包裹\n",
    "        if \"yaxis\"  in line:\n",
    "            yaxis = line.strip().strip('\"').split('\"')[1]\n",
    "\n",
    "    ##deal with data line#\n",
    "    if not line.startswith(\"@\") and not line.startswith(\"#\"): ##\n",
    "        items = line.strip().split()\n",
    "        time_list.append(float(items[0]))\n",
    "        rmsd_list.append(float(items[1]))\n",
    "\n",
    "## check length of time_list, rmsd_list\n",
    "if len(time_list) != len(rmsd_list):\n",
    "    print(\"Wrong in length of time_list and rmsd_list\")\n",
    "    exit()\n",
    "\n",
    "print(len(time_list), len(rmsd_list))\n",
    "\n",
    "## save data csv file\n",
    "with open(\"rmsd.csv\", \"w\") as fo:\n",
    "    fo.write(xaxis+\",\"+yaxis+\"\\n\")  #csv读取，作为分列标志\n",
    "    for i in range(len(time_list)):\n",
    "        fo.write(\"{}, {}\\n\".format(time_list[i], rmsd_list[i]))\n",
    "\n",
    "print(\"congratulations ！\")\n",
    "\n",
    "#print(xaxis, yaxis)\n",
    "\n"
   ]
  }
 ],
 "metadata": {
  "interpreter": {
   "hash": "9efce205f64ad363cd9f14615485aca38ee4ef0915866e318aa83c8d0c93f6fc"
  },
  "kernelspec": {
   "display_name": "Python 3.10.1 64-bit",
   "language": "python",
   "name": "python3"
  },
  "language_info": {
   "codemirror_mode": {
    "name": "ipython",
    "version": 3
   },
   "file_extension": ".py",
   "mimetype": "text/x-python",
   "name": "python",
   "nbconvert_exporter": "python",
   "pygments_lexer": "ipython3",
   "version": "3.10.1"
  },
  "orig_nbformat": 4
 },
 "nbformat": 4,
 "nbformat_minor": 2
}
